{
 "cells": [
  {
   "cell_type": "code",
   "execution_count": 1,
   "metadata": {},
   "outputs": [],
   "source": [
    "import numpy as np\n",
    "import pandas as pd\n",
    "import matplotlib.pyplot as plt"
   ]
  },
  {
   "cell_type": "code",
   "execution_count": 2,
   "metadata": {},
   "outputs": [
    {
     "data": {
      "text/html": [
       "<div>\n",
       "<style scoped>\n",
       "    .dataframe tbody tr th:only-of-type {\n",
       "        vertical-align: middle;\n",
       "    }\n",
       "\n",
       "    .dataframe tbody tr th {\n",
       "        vertical-align: top;\n",
       "    }\n",
       "\n",
       "    .dataframe thead th {\n",
       "        text-align: right;\n",
       "    }\n",
       "</style>\n",
       "<table border=\"1\" class=\"dataframe\">\n",
       "  <thead>\n",
       "    <tr style=\"text-align: right;\">\n",
       "      <th></th>\n",
       "      <th>Hours</th>\n",
       "      <th>Scores</th>\n",
       "    </tr>\n",
       "  </thead>\n",
       "  <tbody>\n",
       "    <tr>\n",
       "      <th>0</th>\n",
       "      <td>2.5</td>\n",
       "      <td>21</td>\n",
       "    </tr>\n",
       "    <tr>\n",
       "      <th>1</th>\n",
       "      <td>5.1</td>\n",
       "      <td>47</td>\n",
       "    </tr>\n",
       "    <tr>\n",
       "      <th>2</th>\n",
       "      <td>3.2</td>\n",
       "      <td>27</td>\n",
       "    </tr>\n",
       "    <tr>\n",
       "      <th>3</th>\n",
       "      <td>8.5</td>\n",
       "      <td>75</td>\n",
       "    </tr>\n",
       "    <tr>\n",
       "      <th>4</th>\n",
       "      <td>3.5</td>\n",
       "      <td>30</td>\n",
       "    </tr>\n",
       "  </tbody>\n",
       "</table>\n",
       "</div>"
      ],
      "text/plain": [
       "   Hours  Scores\n",
       "0    2.5      21\n",
       "1    5.1      47\n",
       "2    3.2      27\n",
       "3    8.5      75\n",
       "4    3.5      30"
      ]
     },
     "execution_count": 2,
     "metadata": {},
     "output_type": "execute_result"
    }
   ],
   "source": [
    "#importing data into dataframe\n",
    "simpler_data_set = pd.read_csv(\"dataset.csv\")\n",
    "simpler_data_set.head()"
   ]
  },
  {
   "cell_type": "code",
   "execution_count": 3,
   "metadata": {},
   "outputs": [
    {
     "data": {
      "text/plain": [
       "(25, 2)"
      ]
     },
     "execution_count": 3,
     "metadata": {},
     "output_type": "execute_result"
    }
   ],
   "source": [
    "simpler_data_set.shape"
   ]
  },
  {
   "cell_type": "code",
   "execution_count": 4,
   "metadata": {},
   "outputs": [
    {
     "name": "stdout",
     "output_type": "stream",
     "text": [
      "[2.5 5.1 3.2 8.5 3.5 1.5 9.2 5.5 8.3 2.7 7.7 5.9 4.5 3.3 1.1 8.9 2.5 1.9\n",
      " 6.1 7.4 2.7 4.8 3.8 6.9 7.8]\n",
      "[21 47 27 75 30 20 88 60 81 25 85 62 41 42 17 95 30 24 67 69 30 54 35 76\n",
      " 86]\n",
      "25\n"
     ]
    }
   ],
   "source": [
    "#Input, Output and No of training examples\n",
    "x = simpler_data_set[\"Hours\"].to_numpy()\n",
    "print(x)\n",
    "y = simpler_data_set[\"Scores\"].to_numpy()\n",
    "print(y)\n",
    "m = simpler_data_set.shape[0] # number of training examples\n",
    "print(m)"
   ]
  },
  {
   "cell_type": "code",
   "execution_count": 5,
   "metadata": {},
   "outputs": [
    {
     "data": {
      "image/png": "[encoded data removed]",
      "text/plain": [
       "<Figure size 432x288 with 1 Axes>"
      ]
     },
     "metadata": {
      "needs_background": "light"
     },
     "output_type": "display_data"
    }
   ],
   "source": [
    "plt.plot(x, y, 'x', color = 'red', markersize = 5);\n",
    "plt.xlabel(\"Hours\")\n",
    "plt.ylabel(\"Scores\")\n",
    "plt.show()"
   ]
  },
  {
   "cell_type": "markdown",
   "metadata": {},
   "source": [
    "Hypothesis for simple one variable linear regression would be h<sub>θ</sub>(x) = θ<sub>0</sub> + θ<sub>1</sub>x\n",
    "\n",
    "Cost function = 1/2m * Σ (h<sub>θ</sub>(x) - y)<sup>2</sup>"
   ]
  },
  {
   "cell_type": "code",
   "execution_count": 6,
   "metadata": {},
   "outputs": [],
   "source": [
    "#initial thetas\n",
    "theta0 = 0\n",
    "theta1 = 0\n",
    "\n",
    "#alpha\n",
    "alpha = 0.001\n",
    "\n",
    "cost_array = []\n",
    "theta1_array = []"
   ]
  },
  {
   "cell_type": "code",
   "execution_count": 7,
   "metadata": {},
   "outputs": [],
   "source": [
    "#hypo = theta0 + theta1 * x\n",
    "#Cost Function\n",
    "h_theta_x_i = theta0 + theta1 * x\n",
    "initial_cost = 1/(2 * m) * (sum((h_theta_x_i - y) ** 2))\n",
    "cost_array.append(initial_cost)\n",
    "theta1_array.append(theta1)\n",
    "\n",
    "#Update theta\n",
    "temp0 = theta0 - alpha * ((1/m) * (sum(h_theta_x_i - y)))\n",
    "temp1 = theta1 - alpha * ((1/m) * (sum((h_theta_x_i - y)  * x)))\n",
    "theta0 = temp0\n",
    "theta1 = temp1\n",
    "\n",
    "#New Cost Function\n",
    "h_theta_x_i = theta0 + theta1 * x\n",
    "cost = 1/(2 * m) * (sum((h_theta_x_i - y) ** 2))\n",
    "cost_array.append(cost)\n",
    "theta1_array.append(theta1)"
   ]
  },
  {
   "cell_type": "code",
   "execution_count": 8,
   "metadata": {},
   "outputs": [
    {
     "name": "stdout",
     "output_type": "stream",
     "text": [
      "Final Cost = 14.441626950501584\n"
     ]
    }
   ],
   "source": [
    "#condition inital cost vs cost\n",
    "iteration = 0 \n",
    "while (abs(cost - initial_cost)) > 0.0000001:\n",
    "    iteration += 1\n",
    "    initial_cost = cost\n",
    "    #Update theta\n",
    "    temp0 = theta0 - alpha * ((1/m) * (sum(h_theta_x_i - y)))\n",
    "    temp1 = theta1 - alpha * ((1/m) * (sum((h_theta_x_i - y)  * x)))\n",
    "    theta0 = temp0\n",
    "    theta1 = temp1\n",
    "    \n",
    "    #New Cost Function\n",
    "    h_theta_x_i = theta0 + theta1 * x\n",
    "    cost = 1/(2 * m) * (sum((h_theta_x_i - y) ** 2))\n",
    "    cost_array.append(cost)\n",
    "    theta1_array.append(theta1)\n",
    "print(\"Final Cost = \" + str(cost))"
   ]
  },
  {
   "cell_type": "code",
   "execution_count": 9,
   "metadata": {},
   "outputs": [
    {
     "name": "stdout",
     "output_type": "stream",
     "text": [
      "2.431992465249299\n",
      "9.784145518456466\n"
     ]
    }
   ],
   "source": [
    "print(theta0)\n",
    "print(theta1)"
   ]
  },
  {
   "cell_type": "code",
   "execution_count": 10,
   "metadata": {},
   "outputs": [
    {
     "data": {
      "image/png": "[encoded data removed]",
      "text/plain": [
       "<Figure size 432x288 with 1 Axes>"
      ]
     },
     "metadata": {
      "needs_background": "light"
     },
     "output_type": "display_data"
    }
   ],
   "source": [
    "plt.plot(x, y, 'x', color = 'red', markersize = 5);\n",
    "new_y = theta0 + theta1 * x \n",
    "plt.plot(x, new_y)\n",
    "plt.xlabel(\"Hours\")\n",
    "plt.ylabel(\"Scores\")\n",
    "plt.title(\"Trained Model Graph\")\n",
    "plt.show()"
   ]
  },
  {
   "cell_type": "code",
   "execution_count": 13,
   "metadata": {},
   "outputs": [
    {
     "name": "stdout",
     "output_type": "stream",
     "text": [
      "Any number of hours : 6.35\n",
      "Predicted Score : 64.56131650744786\n"
     ]
    }
   ],
   "source": [
    "#For new predictions\n",
    "input_hours = float(input(\"Any number of hours : \"))\n",
    "predicted_score = theta0 + theta1 * input_hours\n",
    "print(\"Predicted Score : \" + str(predicted_score))"
   ]
  },
  {
   "cell_type": "code",
   "execution_count": 14,
   "metadata": {},
   "outputs": [
    {
     "data": {
      "image/png": "[encoded data removed]",
      "text/plain": [
       "<Figure size 432x288 with 1 Axes>"
      ]
     },
     "metadata": {
      "needs_background": "light"
     },
     "output_type": "display_data"
    }
   ],
   "source": [
    "plt.plot(x, y, 'x', color = 'red', markersize = 5);\n",
    "new_y = theta0 + theta1 * x \n",
    "plt.plot(x, new_y)\n",
    "plt.xlabel(\"Hours\")\n",
    "plt.ylabel(\"Score\")\n",
    "plt.title(\"Trained Model Graph With Input\")\n",
    "plt.plot(input_hours, predicted_score, 'g*', markersize = 10)\n",
    "plt.show()"
   ]
  }
 ],
 "metadata": {
  "kernelspec": {
   "display_name": "Python 3",
   "language": "python",
   "name": "python3"
  },
  "language_info": {
   "codemirror_mode": {
    "name": "ipython",
    "version": 3
   },
   "file_extension": ".py",
   "mimetype": "text/x-python",
   "name": "python",
   "nbconvert_exporter": "python",
   "pygments_lexer": "ipython3",
   "version": "3.8.5"
  }
 },
 "nbformat": 4,
 "nbformat_minor": 4
}
