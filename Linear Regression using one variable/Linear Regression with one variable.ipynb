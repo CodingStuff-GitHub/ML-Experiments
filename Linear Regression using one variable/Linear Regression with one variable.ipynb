{
 "cells": [
  {
   "cell_type": "code",
   "execution_count": 2,
   "metadata": {},
   "outputs": [],
   "source": [
    "import numpy as np\n",
    "import pandas as pd\n",
    "import matplotlib.pyplot as plt"
   ]
  },
  {
   "cell_type": "code",
   "execution_count": 3,
   "metadata": {},
   "outputs": [
    {
     "data": {
      "text/html": [
       "<div>\n",
       "<style scoped>\n",
       "    .dataframe tbody tr th:only-of-type {\n",
       "        vertical-align: middle;\n",
       "    }\n",
       "\n",
       "    .dataframe tbody tr th {\n",
       "        vertical-align: top;\n",
       "    }\n",
       "\n",
       "    .dataframe thead th {\n",
       "        text-align: right;\n",
       "    }\n",
       "</style>\n",
       "<table border=\"1\" class=\"dataframe\">\n",
       "  <thead>\n",
       "    <tr style=\"text-align: right;\">\n",
       "      <th></th>\n",
       "      <th>Unnamed: 0</th>\n",
       "      <th>Price</th>\n",
       "      <th>Area</th>\n",
       "      <th>Location</th>\n",
       "      <th>No. of Bedrooms</th>\n",
       "      <th>New/Resale</th>\n",
       "      <th>Gymnasium</th>\n",
       "      <th>Lift Available</th>\n",
       "      <th>Car Parking</th>\n",
       "      <th>Maintenance Staff</th>\n",
       "      <th>24x7 Security</th>\n",
       "      <th>Children's Play Area</th>\n",
       "      <th>Clubhouse</th>\n",
       "      <th>Intercom</th>\n",
       "      <th>Landscaped Gardens</th>\n",
       "      <th>Indoor Games</th>\n",
       "      <th>Gas Connection</th>\n",
       "      <th>Jogging Track</th>\n",
       "      <th>Swimming Pool</th>\n",
       "    </tr>\n",
       "  </thead>\n",
       "  <tbody>\n",
       "    <tr>\n",
       "      <th>0</th>\n",
       "      <td>0</td>\n",
       "      <td>4850000</td>\n",
       "      <td>720</td>\n",
       "      <td>Kharghar</td>\n",
       "      <td>1</td>\n",
       "      <td>0</td>\n",
       "      <td>0</td>\n",
       "      <td>1</td>\n",
       "      <td>1</td>\n",
       "      <td>1</td>\n",
       "      <td>1</td>\n",
       "      <td>0</td>\n",
       "      <td>0</td>\n",
       "      <td>0</td>\n",
       "      <td>0</td>\n",
       "      <td>0</td>\n",
       "      <td>0</td>\n",
       "      <td>0</td>\n",
       "      <td>0</td>\n",
       "    </tr>\n",
       "    <tr>\n",
       "      <th>1</th>\n",
       "      <td>1</td>\n",
       "      <td>4500000</td>\n",
       "      <td>600</td>\n",
       "      <td>Kharghar</td>\n",
       "      <td>1</td>\n",
       "      <td>0</td>\n",
       "      <td>1</td>\n",
       "      <td>1</td>\n",
       "      <td>1</td>\n",
       "      <td>1</td>\n",
       "      <td>1</td>\n",
       "      <td>0</td>\n",
       "      <td>1</td>\n",
       "      <td>0</td>\n",
       "      <td>0</td>\n",
       "      <td>0</td>\n",
       "      <td>0</td>\n",
       "      <td>1</td>\n",
       "      <td>1</td>\n",
       "    </tr>\n",
       "    <tr>\n",
       "      <th>2</th>\n",
       "      <td>2</td>\n",
       "      <td>6700000</td>\n",
       "      <td>650</td>\n",
       "      <td>Kharghar</td>\n",
       "      <td>1</td>\n",
       "      <td>0</td>\n",
       "      <td>1</td>\n",
       "      <td>1</td>\n",
       "      <td>1</td>\n",
       "      <td>1</td>\n",
       "      <td>1</td>\n",
       "      <td>1</td>\n",
       "      <td>1</td>\n",
       "      <td>1</td>\n",
       "      <td>0</td>\n",
       "      <td>0</td>\n",
       "      <td>0</td>\n",
       "      <td>1</td>\n",
       "      <td>1</td>\n",
       "    </tr>\n",
       "    <tr>\n",
       "      <th>3</th>\n",
       "      <td>3</td>\n",
       "      <td>4500000</td>\n",
       "      <td>650</td>\n",
       "      <td>Kharghar</td>\n",
       "      <td>1</td>\n",
       "      <td>0</td>\n",
       "      <td>0</td>\n",
       "      <td>1</td>\n",
       "      <td>1</td>\n",
       "      <td>1</td>\n",
       "      <td>1</td>\n",
       "      <td>0</td>\n",
       "      <td>0</td>\n",
       "      <td>1</td>\n",
       "      <td>1</td>\n",
       "      <td>0</td>\n",
       "      <td>0</td>\n",
       "      <td>0</td>\n",
       "      <td>0</td>\n",
       "    </tr>\n",
       "    <tr>\n",
       "      <th>4</th>\n",
       "      <td>4</td>\n",
       "      <td>5000000</td>\n",
       "      <td>665</td>\n",
       "      <td>Kharghar</td>\n",
       "      <td>1</td>\n",
       "      <td>0</td>\n",
       "      <td>0</td>\n",
       "      <td>1</td>\n",
       "      <td>1</td>\n",
       "      <td>1</td>\n",
       "      <td>1</td>\n",
       "      <td>0</td>\n",
       "      <td>0</td>\n",
       "      <td>1</td>\n",
       "      <td>1</td>\n",
       "      <td>0</td>\n",
       "      <td>0</td>\n",
       "      <td>0</td>\n",
       "      <td>0</td>\n",
       "    </tr>\n",
       "  </tbody>\n",
       "</table>\n",
       "</div>"
      ],
      "text/plain": [
       "   Unnamed: 0    Price  Area  Location  No. of Bedrooms  New/Resale  \\\n",
       "0           0  4850000   720  Kharghar                1           0   \n",
       "1           1  4500000   600  Kharghar                1           0   \n",
       "2           2  6700000   650  Kharghar                1           0   \n",
       "3           3  4500000   650  Kharghar                1           0   \n",
       "4           4  5000000   665  Kharghar                1           0   \n",
       "\n",
       "   Gymnasium  Lift Available  Car Parking  Maintenance Staff  24x7 Security  \\\n",
       "0          0               1            1                  1              1   \n",
       "1          1               1            1                  1              1   \n",
       "2          1               1            1                  1              1   \n",
       "3          0               1            1                  1              1   \n",
       "4          0               1            1                  1              1   \n",
       "\n",
       "   Children's Play Area  Clubhouse  Intercom  Landscaped Gardens  \\\n",
       "0                     0          0         0                   0   \n",
       "1                     0          1         0                   0   \n",
       "2                     1          1         1                   0   \n",
       "3                     0          0         1                   1   \n",
       "4                     0          0         1                   1   \n",
       "\n",
       "   Indoor Games  Gas Connection  Jogging Track  Swimming Pool  \n",
       "0             0               0              0              0  \n",
       "1             0               0              1              1  \n",
       "2             0               0              1              1  \n",
       "3             0               0              0              0  \n",
       "4             0               0              0              0  "
      ]
     },
     "execution_count": 3,
     "metadata": {},
     "output_type": "execute_result"
    }
   ],
   "source": [
    "#importing data into dataframe\n",
    "dataset = pd.read_csv(\"dataset.csv\")\n",
    "dataset.head()"
   ]
  },
  {
   "cell_type": "code",
   "execution_count": 4,
   "metadata": {},
   "outputs": [
    {
     "data": {
      "text/html": [
       "<div>\n",
       "<style scoped>\n",
       "    .dataframe tbody tr th:only-of-type {\n",
       "        vertical-align: middle;\n",
       "    }\n",
       "\n",
       "    .dataframe tbody tr th {\n",
       "        vertical-align: top;\n",
       "    }\n",
       "\n",
       "    .dataframe thead th {\n",
       "        text-align: right;\n",
       "    }\n",
       "</style>\n",
       "<table border=\"1\" class=\"dataframe\">\n",
       "  <thead>\n",
       "    <tr style=\"text-align: right;\">\n",
       "      <th></th>\n",
       "      <th>Area</th>\n",
       "      <th>Price</th>\n",
       "    </tr>\n",
       "  </thead>\n",
       "  <tbody>\n",
       "    <tr>\n",
       "      <th>0</th>\n",
       "      <td>720</td>\n",
       "      <td>4850000</td>\n",
       "    </tr>\n",
       "    <tr>\n",
       "      <th>1</th>\n",
       "      <td>600</td>\n",
       "      <td>4500000</td>\n",
       "    </tr>\n",
       "    <tr>\n",
       "      <th>2</th>\n",
       "      <td>650</td>\n",
       "      <td>6700000</td>\n",
       "    </tr>\n",
       "    <tr>\n",
       "      <th>3</th>\n",
       "      <td>650</td>\n",
       "      <td>4500000</td>\n",
       "    </tr>\n",
       "    <tr>\n",
       "      <th>4</th>\n",
       "      <td>665</td>\n",
       "      <td>5000000</td>\n",
       "    </tr>\n",
       "  </tbody>\n",
       "</table>\n",
       "</div>"
      ],
      "text/plain": [
       "   Area    Price\n",
       "0   720  4850000\n",
       "1   600  4500000\n",
       "2   650  6700000\n",
       "3   650  4500000\n",
       "4   665  5000000"
      ]
     },
     "execution_count": 4,
     "metadata": {},
     "output_type": "execute_result"
    }
   ],
   "source": [
    "simpler_data_set = dataset[[\"Area\", \"Price\"]]\n",
    "simpler_data_set.head()"
   ]
  },
  {
   "cell_type": "code",
   "execution_count": 5,
   "metadata": {},
   "outputs": [
    {
     "data": {
      "text/plain": [
       "(6347, 2)"
      ]
     },
     "execution_count": 5,
     "metadata": {},
     "output_type": "execute_result"
    }
   ],
   "source": [
    "simpler_data_set.shape"
   ]
  },
  {
   "cell_type": "code",
   "execution_count": 22,
   "metadata": {},
   "outputs": [
    {
     "name": "stdout",
     "output_type": "stream",
     "text": [
      "[-0.51107459 -0.72677318 -0.63689877 ... -0.18752671  0.67526765\n",
      " -0.54702436]\n",
      "[-0.5111666  -0.52852958 -0.41939089 ... -0.03244463 -0.54837297\n",
      " -0.61534444]\n"
     ]
    }
   ],
   "source": [
    "#Input, Output and No of training examples\n",
    "original_x = simpler_data_set[\"Area\"].to_numpy()\n",
    "x = (original_x - np.mean(original_x)) / np.std(original_x)\n",
    "print(x)\n",
    "original_y = simpler_data_set[\"Price\"].to_numpy()\n",
    "y = (original_y - np.mean(original_y)) / np.std(original_y)\n",
    "print(y)\n",
    "m = simpler_data_set.shape[0]"
   ]
  },
  {
   "cell_type": "code",
   "execution_count": 23,
   "metadata": {},
   "outputs": [
    {
     "data": {
      "image/png": "[encoded data removed]",
      "text/plain": [
       "<Figure size 432x288 with 1 Axes>"
      ]
     },
     "metadata": {
      "needs_background": "light"
     },
     "output_type": "display_data"
    }
   ],
   "source": [
    "plt.plot(x, y, 'x', color = 'red', markersize = 5);\n",
    "plt.xlabel(\"Size\")\n",
    "plt.ylabel(\"Price\")\n",
    "plt.show()"
   ]
  },
  {
   "cell_type": "markdown",
   "metadata": {},
   "source": [
    "Hypothesis for simple one variable linear regression would be h<sub>θ</sub>(x) = θ<sub>0</sub> + θ<sub>1</sub>x\n",
    "\n",
    "Cost function = 1/2m * Σ (h<sub>θ</sub>(x) - y)<sup>2</sup>"
   ]
  },
  {
   "cell_type": "code",
   "execution_count": 24,
   "metadata": {},
   "outputs": [],
   "source": [
    "#initial thetas\n",
    "theta0 = 0\n",
    "theta1 = 0\n",
    "\n",
    "#alpha\n",
    "alpha = 0.001\n",
    "\n",
    "cost_array = []\n",
    "theta1_array = []"
   ]
  },
  {
   "cell_type": "code",
   "execution_count": 25,
   "metadata": {},
   "outputs": [
    {
     "name": "stdout",
     "output_type": "stream",
     "text": [
      "0.5000000000000054\n",
      "0.4994784918706947\n"
     ]
    }
   ],
   "source": [
    "#hypo = theta0 + theta1 * x\n",
    "#Cost Function\n",
    "h_theta_x_i = theta0 + theta1 * x\n",
    "initial_cost = 1/(2 * m) * (sum((h_theta_x_i - y) ** 2))\n",
    "print(initial_cost)\n",
    "cost_array.append(initial_cost)\n",
    "theta1_array.append(theta1)\n",
    "\n",
    "#Update theta\n",
    "temp0 = theta0 - alpha * ((1/m) * (sum(h_theta_x_i - y)))\n",
    "temp1 = theta1 - alpha * ((1/m) * (sum((h_theta_x_i - y)  * x)))\n",
    "theta0 = temp0\n",
    "theta1 = temp1\n",
    "\n",
    "#New Cost Function\n",
    "h_theta_x_i = theta0 + theta1 * x\n",
    "cost = 1/(2 * m) * (sum((h_theta_x_i - y) ** 2))\n",
    "print(cost)\n",
    "cost_array.append(cost)\n",
    "theta1_array.append(theta1)"
   ]
  },
  {
   "cell_type": "code",
   "execution_count": 26,
   "metadata": {},
   "outputs": [
    {
     "name": "stdout",
     "output_type": "stream",
     "text": [
      "After 100, Cost = 0.45226135728199707\n",
      "After 200, Cost = 0.41360710531962397\n",
      "After 300, Cost = 0.38196284719625484\n",
      "After 400, Cost = 0.3560573123238403\n",
      "After 500, Cost = 0.33484977652351794\n",
      "After 600, Cost = 0.3174882521644606\n",
      "After 700, Cost = 0.30327526056995124\n",
      "After 800, Cost = 0.2916398116377157\n",
      "After 900, Cost = 0.2821144649888855\n",
      "After 1000, Cost = 0.2743165511044392\n",
      "After 1100, Cost = 0.26793279803056397\n",
      "After 1200, Cost = 0.26270674604895594\n",
      "After 1300, Cost = 0.2584284447114184\n",
      "After 1400, Cost = 0.2549260183292844\n",
      "After 1500, Cost = 0.252058761071217\n",
      "After 1600, Cost = 0.2497114842730848\n",
      "After 1700, Cost = 0.24778988886983302\n",
      "After 1800, Cost = 0.24621677704222683\n",
      "After 1900, Cost = 0.24492895088592023\n",
      "After 2000, Cost = 0.2438746735104864\n",
      "After 2100, Cost = 0.24301159057114224\n",
      "After 2200, Cost = 0.24230502873310583\n",
      "After 2300, Cost = 0.24172660271144147\n",
      "After 2400, Cost = 0.24125307492586756\n",
      "After 2500, Cost = 0.24086542195848162\n",
      "After 2600, Cost = 0.24054807031048753\n",
      "After 2700, Cost = 0.24028827075532172\n",
      "After 2800, Cost = 0.24007558615358962\n",
      "After 2900, Cost = 0.23990147215333169\n",
      "After 3000, Cost = 0.23975893393082462\n",
      "After 3100, Cost = 0.23964224518181385\n",
      "After 3200, Cost = 0.2395467180740212\n",
      "After 3300, Cost = 0.23946851491904403\n",
      "After 3400, Cost = 0.2394044939977603\n",
      "After 3500, Cost = 0.23935208334548946\n",
      "After 3600, Cost = 0.23930917742635718\n",
      "After 3700, Cost = 0.2392740525458795\n",
      "After 3800, Cost = 0.23924529760359386\n",
      "After 3900, Cost = 0.23922175740374882\n",
      "After 4000, Cost = 0.23920248624669743\n",
      "After 4100, Cost = 0.2391867099365373\n",
      "After 4200, Cost = 0.23917379467869057\n",
      "Final Cost = 0.2391653696574028\n"
     ]
    }
   ],
   "source": [
    "#condition inital cost vs cost\n",
    "iteration = 0 \n",
    "while (abs(cost - initial_cost)) > 0.0000001:\n",
    "    iteration += 1\n",
    "    initial_cost = cost\n",
    "    #Update theta\n",
    "    temp0 = theta0 - alpha * ((1/m) * (sum(h_theta_x_i - y)))\n",
    "    temp1 = theta1 - alpha * ((1/m) * (sum((h_theta_x_i - y)  * x)))\n",
    "    theta0 = temp0\n",
    "    theta1 = temp1\n",
    "    \n",
    "    #New Cost Function\n",
    "    h_theta_x_i = theta0 + theta1 * x\n",
    "    cost = 1/(2 * m) * (sum((h_theta_x_i - y) ** 2))\n",
    "    if not(iteration % 100):\n",
    "        print(\"After \" + str(iteration) + \", Cost = \" + str(cost))\n",
    "    cost_array.append(cost)\n",
    "    theta1_array.append(theta1)\n",
    "print(\"Final Cost = \" + str(cost))"
   ]
  },
  {
   "cell_type": "code",
   "execution_count": 27,
   "metadata": {},
   "outputs": [
    {
     "name": "stdout",
     "output_type": "stream",
     "text": [
      "4280\n",
      "4280\n"
     ]
    }
   ],
   "source": [
    "print(len(cost_array))\n",
    "print(len(theta1_array))"
   ]
  },
  {
   "cell_type": "code",
   "execution_count": 41,
   "metadata": {},
   "outputs": [
    {
     "data": {
      "image/png": "[encoded data removed]",
      "text/plain": [
       "<Figure size 432x288 with 1 Axes>"
      ]
     },
     "metadata": {
      "needs_background": "light"
     },
     "output_type": "display_data"
    }
   ],
   "source": [
    "plt.plot(x, y, 'x', color = 'red', markersize = 5);\n",
    "new_y = theta0 + theta1 * x \n",
    "plt.plot(x, new_y)\n",
    "plt.xlabel(\"Size\")\n",
    "plt.ylabel(\"Price\")\n",
    "plt.title(\"Trained Model Graph\")\n",
    "plt.show()"
   ]
  },
  {
   "cell_type": "code",
   "execution_count": 39,
   "metadata": {},
   "outputs": [
    {
     "name": "stdout",
     "output_type": "stream",
     "text": [
      "Any size of house : 5000\n",
      "Predicted Price : 118285730.49356978\n"
     ]
    }
   ],
   "source": [
    "#For new predictions\n",
    "original_input_house_size = int(input(\"Any size of house : \"))\n",
    "input_house_size = (original_input_house_size - np.mean(original_x)) / np.std(original_x)\n",
    "predicted_house_price = theta0 + theta1 * input_house_size\n",
    "original_predicted_house_price = predicted_house_price * np.std(original_y) + np.mean(original_y)\n",
    "print(\"Predicted Price : \" + str(original_predicted_house_price))"
   ]
  },
  {
   "cell_type": "code",
   "execution_count": 44,
   "metadata": {},
   "outputs": [
    {
     "data": {
      "image/png": "[encoded data removed]",
      "text/plain": [
       "<Figure size 432x288 with 1 Axes>"
      ]
     },
     "metadata": {
      "needs_background": "light"
     },
     "output_type": "display_data"
    }
   ],
   "source": [
    "plt.plot(x, y, 'x', color = 'red', markersize = 5);\n",
    "new_y = theta0 + theta1 * x \n",
    "plt.plot(x, new_y)\n",
    "plt.xlabel(\"Size\")\n",
    "plt.ylabel(\"Price\")\n",
    "plt.title(\"Trained Model Graph With Input\")\n",
    "plt.plot(input_house_size, predicted_house_price, 'g*', markersize = 10)\n",
    "plt.show()"
   ]
  },
  {
   "cell_type": "code",
   "execution_count": null,
   "metadata": {},
   "outputs": [],
   "source": []
  }
 ],
 "metadata": {
  "kernelspec": {
   "display_name": "Python 3",
   "language": "python",
   "name": "python3"
  },
  "language_info": {
   "codemirror_mode": {
    "name": "ipython",
    "version": 3
   },
   "file_extension": ".py",
   "mimetype": "text/x-python",
   "name": "python",
   "nbconvert_exporter": "python",
   "pygments_lexer": "ipython3",
   "version": "3.8.5"
  }
 },
 "nbformat": 4,
 "nbformat_minor": 4
}
