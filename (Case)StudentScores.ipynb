{
 "cells": [
  {
   "cell_type": "code",
   "execution_count": 1,
   "metadata": {},
   "outputs": [],
   "source": [
    "import numpy as np\n",
    "import pandas as pd\n",
    "import matplotlib.pyplot as plt"
   ]
  },
  {
   "cell_type": "code",
   "execution_count": 3,
   "metadata": {},
   "outputs": [
    {
     "data": {
      "text/html": [
       "<div>\n",
       "<style scoped>\n",
       "    .dataframe tbody tr th:only-of-type {\n",
       "        vertical-align: middle;\n",
       "    }\n",
       "\n",
       "    .dataframe tbody tr th {\n",
       "        vertical-align: top;\n",
       "    }\n",
       "\n",
       "    .dataframe thead th {\n",
       "        text-align: right;\n",
       "    }\n",
       "</style>\n",
       "<table border=\"1\" class=\"dataframe\">\n",
       "  <thead>\n",
       "    <tr style=\"text-align: right;\">\n",
       "      <th></th>\n",
       "      <th>Hours</th>\n",
       "      <th>Scores</th>\n",
       "    </tr>\n",
       "  </thead>\n",
       "  <tbody>\n",
       "    <tr>\n",
       "      <th>0</th>\n",
       "      <td>2.5</td>\n",
       "      <td>21</td>\n",
       "    </tr>\n",
       "    <tr>\n",
       "      <th>1</th>\n",
       "      <td>5.1</td>\n",
       "      <td>47</td>\n",
       "    </tr>\n",
       "    <tr>\n",
       "      <th>2</th>\n",
       "      <td>3.2</td>\n",
       "      <td>27</td>\n",
       "    </tr>\n",
       "    <tr>\n",
       "      <th>3</th>\n",
       "      <td>8.5</td>\n",
       "      <td>75</td>\n",
       "    </tr>\n",
       "    <tr>\n",
       "      <th>4</th>\n",
       "      <td>3.5</td>\n",
       "      <td>30</td>\n",
       "    </tr>\n",
       "  </tbody>\n",
       "</table>\n",
       "</div>"
      ],
      "text/plain": [
       "   Hours  Scores\n",
       "0    2.5      21\n",
       "1    5.1      47\n",
       "2    3.2      27\n",
       "3    8.5      75\n",
       "4    3.5      30"
      ]
     },
     "execution_count": 3,
     "metadata": {},
     "output_type": "execute_result"
    }
   ],
   "source": [
    "#importing data into dataframe\n",
    "dataset = pd.read_csv(\"dataset.csv\")\n",
    "dataset.head()"
   ]
  },
  {
   "cell_type": "code",
   "execution_count": 4,
   "metadata": {},
   "outputs": [
    {
     "data": {
      "text/html": [
       "<div>\n",
       "<style scoped>\n",
       "    .dataframe tbody tr th:only-of-type {\n",
       "        vertical-align: middle;\n",
       "    }\n",
       "\n",
       "    .dataframe tbody tr th {\n",
       "        vertical-align: top;\n",
       "    }\n",
       "\n",
       "    .dataframe thead th {\n",
       "        text-align: right;\n",
       "    }\n",
       "</style>\n",
       "<table border=\"1\" class=\"dataframe\">\n",
       "  <thead>\n",
       "    <tr style=\"text-align: right;\">\n",
       "      <th></th>\n",
       "      <th>Hours</th>\n",
       "      <th>Scores</th>\n",
       "    </tr>\n",
       "  </thead>\n",
       "  <tbody>\n",
       "    <tr>\n",
       "      <th>0</th>\n",
       "      <td>2.5</td>\n",
       "      <td>21</td>\n",
       "    </tr>\n",
       "    <tr>\n",
       "      <th>1</th>\n",
       "      <td>5.1</td>\n",
       "      <td>47</td>\n",
       "    </tr>\n",
       "    <tr>\n",
       "      <th>2</th>\n",
       "      <td>3.2</td>\n",
       "      <td>27</td>\n",
       "    </tr>\n",
       "    <tr>\n",
       "      <th>3</th>\n",
       "      <td>8.5</td>\n",
       "      <td>75</td>\n",
       "    </tr>\n",
       "    <tr>\n",
       "      <th>4</th>\n",
       "      <td>3.5</td>\n",
       "      <td>30</td>\n",
       "    </tr>\n",
       "  </tbody>\n",
       "</table>\n",
       "</div>"
      ],
      "text/plain": [
       "   Hours  Scores\n",
       "0    2.5      21\n",
       "1    5.1      47\n",
       "2    3.2      27\n",
       "3    8.5      75\n",
       "4    3.5      30"
      ]
     },
     "execution_count": 4,
     "metadata": {},
     "output_type": "execute_result"
    }
   ],
   "source": [
    "simpler_data_set = dataset[[\"Hours\", \"Scores\"]]\n",
    "simpler_data_set.head()"
   ]
  },
  {
   "cell_type": "code",
   "execution_count": 5,
   "metadata": {},
   "outputs": [
    {
     "data": {
      "text/plain": [
       "(25, 2)"
      ]
     },
     "execution_count": 5,
     "metadata": {},
     "output_type": "execute_result"
    }
   ],
   "source": [
    "simpler_data_set.shape"
   ]
  },
  {
   "cell_type": "code",
   "execution_count": 7,
   "metadata": {},
   "outputs": [
    {
     "name": "stdout",
     "output_type": "stream",
     "text": [
      "[-1.01532822  0.03556882 -0.7323944   1.40981881 -0.61113705 -1.4195194\n",
      "  1.69275263  0.19724529  1.32898057 -0.93448999  1.08646587  0.35892176\n",
      " -0.20694588 -0.69197529 -1.58119586  1.57149528 -1.01532822 -1.25784293\n",
      "  0.43975999  0.96520852 -0.93448999 -0.08568853 -0.4898797   0.76311293\n",
      "  1.12688499]\n",
      "[-1.23022337 -0.18082023 -0.98805342  0.94930623 -0.86696844 -1.27058503\n",
      "  1.4740078   0.34388134  1.19147618 -1.06877674  1.35292282  0.42460466\n",
      " -0.42299019 -0.38262853 -1.39167001  1.75653941 -0.86696844 -1.1091384\n",
      "  0.62641295  0.70713627 -0.86696844  0.10171138 -0.66516014  0.98966788\n",
      "  1.39328448]\n"
     ]
    }
   ],
   "source": [
    "#Input, Output and No of training examples\n",
    "original_x = simpler_data_set[\"Hours\"].to_numpy()\n",
    "x = (original_x - np.mean(original_x)) / np.std(original_x)\n",
    "print(x)\n",
    "original_y = simpler_data_set[\"Scores\"].to_numpy()\n",
    "y = (original_y - np.mean(original_y)) / np.std(original_y)\n",
    "print(y)\n",
    "m = simpler_data_set.shape[0]"
   ]
  },
  {
   "cell_type": "code",
   "execution_count": 10,
   "metadata": {},
   "outputs": [
    {
     "data": {
      "image/png": "[encoded data removed]",
      "text/plain": [
       "<Figure size 432x288 with 1 Axes>"
      ]
     },
     "metadata": {
      "needs_background": "light"
     },
     "output_type": "display_data"
    }
   ],
   "source": [
    "plt.plot(x, y, 'x', color = 'red', markersize = 5);\n",
    "plt.xlabel(\"Hours\")\n",
    "plt.ylabel(\"Scores\")\n",
    "plt.show()"
   ]
  },
  {
   "cell_type": "markdown",
   "metadata": {},
   "source": [
    "Hypothesis for simple one variable linear regression would be h<sub>θ</sub>(x) = θ<sub>0</sub> + θ<sub>1</sub>x\n",
    "\n",
    "Cost function = 1/2m * Σ (h<sub>θ</sub>(x) - y)<sup>2</sup>"
   ]
  },
  {
   "cell_type": "code",
   "execution_count": 11,
   "metadata": {},
   "outputs": [],
   "source": [
    "#initial thetas\n",
    "theta0 = 0\n",
    "theta1 = 0\n",
    "\n",
    "#alpha\n",
    "alpha = 0.001\n",
    "\n",
    "cost_array = []\n",
    "theta1_array = []"
   ]
  },
  {
   "cell_type": "code",
   "execution_count": 12,
   "metadata": {},
   "outputs": [
    {
     "name": "stdout",
     "output_type": "stream",
     "text": [
      "0.49999999999999994\n",
      "0.49904752827719356\n"
     ]
    }
   ],
   "source": [
    "#hypo = theta0 + theta1 * x\n",
    "#Cost Function\n",
    "h_theta_x_i = theta0 + theta1 * x\n",
    "initial_cost = 1/(2 * m) * (sum((h_theta_x_i - y) ** 2))\n",
    "print(initial_cost)\n",
    "cost_array.append(initial_cost)\n",
    "theta1_array.append(theta1)\n",
    "\n",
    "#Update theta\n",
    "temp0 = theta0 - alpha * ((1/m) * (sum(h_theta_x_i - y)))\n",
    "temp1 = theta1 - alpha * ((1/m) * (sum((h_theta_x_i - y)  * x)))\n",
    "theta0 = temp0\n",
    "theta1 = temp1\n",
    "\n",
    "#New Cost Function\n",
    "h_theta_x_i = theta0 + theta1 * x\n",
    "cost = 1/(2 * m) * (sum((h_theta_x_i - y) ** 2))\n",
    "print(cost)\n",
    "cost_array.append(cost)\n",
    "theta1_array.append(theta1)"
   ]
  },
  {
   "cell_type": "code",
   "execution_count": 13,
   "metadata": {},
   "outputs": [
    {
     "name": "stdout",
     "output_type": "stream",
     "text": [
      "After 100, Cost = 0.4128111246615554\n",
      "After 200, Cost = 0.34221379378316596\n",
      "After 300, Cost = 0.28441937149525637\n",
      "After 400, Cost = 0.23710603533886523\n",
      "After 500, Cost = 0.19837302807570642\n",
      "After 600, Cost = 0.16666429701753413\n",
      "After 700, Cost = 0.14070598145250832\n",
      "After 800, Cost = 0.11945523679996303\n",
      "After 900, Cost = 0.10205833956460737\n",
      "After 1000, Cost = 0.08781639000632316\n",
      "After 1100, Cost = 0.07615723467094018\n",
      "After 1200, Cost = 0.06661248080291937\n",
      "After 1300, Cost = 0.05879867922120253\n",
      "After 1400, Cost = 0.052401919702551536\n",
      "After 1500, Cost = 0.04716522001015162\n",
      "After 1600, Cost = 0.042878201936637404\n",
      "After 1700, Cost = 0.03936863960880123\n",
      "After 1800, Cost = 0.03649554051713582\n",
      "After 1900, Cost = 0.03414348130876776\n",
      "After 2000, Cost = 0.032217970790972814\n",
      "After 2100, Cost = 0.030641653859431264\n",
      "After 2200, Cost = 0.02935120384853732\n",
      "After 2300, Cost = 0.0282947784576183\n",
      "After 2400, Cost = 0.027429937047910954\n",
      "After 2500, Cost = 0.026721935640169336\n",
      "After 2600, Cost = 0.02614233111645249\n",
      "After 2700, Cost = 0.02566783855155117\n",
      "After 2800, Cost = 0.025279395768698355\n",
      "After 2900, Cost = 0.024961397539196486\n",
      "After 3000, Cost = 0.024701068660838498\n",
      "After 3100, Cost = 0.024487950729291268\n",
      "After 3200, Cost = 0.024313481984089197\n",
      "After 3300, Cost = 0.02417065335004893\n",
      "After 3400, Cost = 0.02405372685597583\n",
      "After 3500, Cost = 0.02395800511846786\n",
      "After 3600, Cost = 0.023879642630101283\n",
      "After 3700, Cost = 0.023815491270724964\n",
      "After 3800, Cost = 0.023762973835462088\n",
      "After 3900, Cost = 0.023719980498556885\n",
      "After 4000, Cost = 0.023684784053624074\n",
      "After 4100, Cost = 0.023655970525178\n",
      "After 4200, Cost = 0.023632382363842495\n",
      "After 4300, Cost = 0.023613071943175617\n",
      "After 4400, Cost = 0.023597263489899944\n",
      "After 4500, Cost = 0.023584321918129952\n",
      "Final Cost = 0.02357577982506824\n"
     ]
    }
   ],
   "source": [
    "#condition inital cost vs cost\n",
    "iteration = 0 \n",
    "while (abs(cost - initial_cost)) > 0.0000001:\n",
    "    iteration += 1\n",
    "    initial_cost = cost\n",
    "    #Update theta\n",
    "    temp0 = theta0 - alpha * ((1/m) * (sum(h_theta_x_i - y)))\n",
    "    temp1 = theta1 - alpha * ((1/m) * (sum((h_theta_x_i - y)  * x)))\n",
    "    theta0 = temp0\n",
    "    theta1 = temp1\n",
    "    \n",
    "    #New Cost Function\n",
    "    h_theta_x_i = theta0 + theta1 * x\n",
    "    cost = 1/(2 * m) * (sum((h_theta_x_i - y) ** 2))\n",
    "    if not(iteration % 100):\n",
    "        print(\"After \" + str(iteration) + \", Cost = \" + str(cost))\n",
    "    cost_array.append(cost)\n",
    "    theta1_array.append(theta1)\n",
    "print(\"Final Cost = \" + str(cost))"
   ]
  },
  {
   "cell_type": "code",
   "execution_count": 14,
   "metadata": {},
   "outputs": [
    {
     "name": "stdout",
     "output_type": "stream",
     "text": [
      "4581\n",
      "4581\n"
     ]
    }
   ],
   "source": [
    "print(len(cost_array))\n",
    "print(len(theta1_array))"
   ]
  },
  {
   "cell_type": "code",
   "execution_count": 15,
   "metadata": {},
   "outputs": [
    {
     "data": {
      "image/png": "[encoded data removed]",
      "text/plain": [
       "<Figure size 432x288 with 1 Axes>"
      ]
     },
     "metadata": {
      "needs_background": "light"
     },
     "output_type": "display_data"
    }
   ],
   "source": [
    "plt.plot(x, y, 'x', color = 'red', markersize = 5);\n",
    "new_y = theta0 + theta1 * x \n",
    "plt.plot(x, new_y)\n",
    "plt.xlabel(\"Hours\")\n",
    "plt.ylabel(\"Scores\")\n",
    "plt.title(\"Trained Model Graph\")\n",
    "plt.show()"
   ]
  },
  {
   "cell_type": "code",
   "execution_count": 18,
   "metadata": {},
   "outputs": [
    {
     "name": "stdout",
     "output_type": "stream",
     "text": [
      "Any number of hours : 9.25\n",
      "Predicted Score : 92.48596836718157\n"
     ]
    }
   ],
   "source": [
    "#For new predictions\n",
    "original_input_house_size = float(input(\"Any number of hours : \"))\n",
    "input_house_size = (original_input_house_size - np.mean(original_x)) / np.std(original_x)\n",
    "predicted_house_price = theta0 + theta1 * input_house_size\n",
    "original_predicted_house_price = predicted_house_price * np.std(original_y) + np.mean(original_y)\n",
    "print(\"Predicted Score : \" + str(original_predicted_house_price))"
   ]
  },
  {
   "cell_type": "code",
   "execution_count": 19,
   "metadata": {},
   "outputs": [
    {
     "data": {
      "image/png": "[encoded data removed]",
      "text/plain": [
       "<Figure size 432x288 with 1 Axes>"
      ]
     },
     "metadata": {
      "needs_background": "light"
     },
     "output_type": "display_data"
    }
   ],
   "source": [
    "plt.plot(x, y, 'x', color = 'red', markersize = 5);\n",
    "new_y = theta0 + theta1 * x \n",
    "plt.plot(x, new_y)\n",
    "plt.xlabel(\"Hours\")\n",
    "plt.ylabel(\"Score\")\n",
    "plt.title(\"Trained Model Graph With Input\")\n",
    "plt.plot(input_house_size, predicted_house_price, 'g*', markersize = 10)\n",
    "plt.show()"
   ]
  }
 ],
 "metadata": {
  "kernelspec": {
   "display_name": "Python 3",
   "language": "python",
   "name": "python3"
  },
  "language_info": {
   "codemirror_mode": {
    "name": "ipython",
    "version": 3
   },
   "file_extension": ".py",
   "mimetype": "text/x-python",
   "name": "python",
   "nbconvert_exporter": "python",
   "pygments_lexer": "ipython3",
   "version": "3.8.5"
  }
 },
 "nbformat": 4,
 "nbformat_minor": 4
}
